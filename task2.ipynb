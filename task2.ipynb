{
  "nbformat": 4,
  "nbformat_minor": 0,
  "metadata": {
    "colab": {
      "provenance": [],
      "authorship_tag": "ABX9TyNVumR0u+NEWM4XJjFNavlY",
      "include_colab_link": true
    },
    "kernelspec": {
      "name": "python3",
      "display_name": "Python 3"
    },
    "language_info": {
      "name": "python"
    }
  },
  "cells": [
    {
      "cell_type": "markdown",
      "metadata": {
        "id": "view-in-github",
        "colab_type": "text"
      },
      "source": [
        "<a href=\"https://colab.research.google.com/github/vedu-13/Codtech-Cyber-Security-/blob/main/task2.ipynb\" target=\"_parent\"><img src=\"https://colab.research.google.com/assets/colab-badge.svg\" alt=\"Open In Colab\"/></a>"
      ]
    },
    {
      "cell_type": "code",
      "execution_count": 4,
      "metadata": {
        "id": "-fGXpVphV53C"
      },
      "outputs": [],
      "source": [
        "import requests\n",
        "from bs4 import BeautifulSoup\n",
        "\n",
        "def simple_scanner(url):\n",
        "    \"\"\"\n",
        "    A basic web scanner that makes a request to a URL.\n",
        "    \"\"\"\n",
        "    try:\n",
        "        response = requests.get(url)\n",
        "        response.raise_for_status()  # Raise an HTTPError for bad responses (4xx or 5xx)\n",
        "        print(f\"Successfully accessed: {url}\")\n",
        "        # You can process the content here using BeautifulSoup if needed\n",
        "        # soup = BeautifulSoup(response.content, 'html.parser')\n",
        "        # print(soup.title)\n",
        "\n",
        "    except requests.exceptions.RequestException as e:\n",
        "        print(f\"Error accessing {url}: {e}\")\n",
        "\n",
        "# Example usage (replace with a target URL you have permission to scan)\n",
        "# simple_scanner(\"http://example.com\")"
      ]
    },
    {
      "cell_type": "code",
      "metadata": {
        "id": "ebde7e37"
      },
      "source": [
        "import requests\n",
        "from bs4 import BeautifulSoup\n",
        "import urllib.parse\n",
        "\n",
        "def simple_scanner(url):\n",
        "    \"\"\"\n",
        "    A basic web scanner that makes a request to a URL and performs basic SQL injection and XSS checks.\n",
        "    \"\"\"\n",
        "    try:\n",
        "        response = requests.get(url)\n",
        "        response.raise_for_status()  # Raise an HTTPError for bad responses (4xx or 5xx)\n",
        "        print(f\"Successfully accessed: {url}\")\n",
        "\n",
        "        soup = BeautifulSoup(response.content, 'html.parser')\n",
        "\n",
        "        # Basic SQL Injection Check\n",
        "        print(\"\\n--- Performing SQL Injection Checks ---\")\n",
        "        input_tags = soup.find_all(['input', 'textarea'])\n",
        "        for tag in input_tags:\n",
        "            if tag.get('name'):\n",
        "                print(f\"Found input field: {tag.get('name')}\")\n",
        "                # Simple payloads to test for error-based SQL injection\n",
        "                sql_payloads = [\"'\", \"' OR '1'='1\", \"\\\" OR \\\"1\\\"=\\\"1\", \"') OR ('1'='1\"]\n",
        "                for payload in sql_payloads:\n",
        "                    test_url = url\n",
        "                    # Assuming GET requests for simplicity; POST requires more complex handling\n",
        "                    if '?' in test_url:\n",
        "                        test_url += '&' + tag.get('name') + '=' + urllib.parse.quote(payload)\n",
        "                    else:\n",
        "                        test_url += '?' + tag.get('name') + '=' + urllib.parse.quote(payload)\n",
        "\n",
        "                    try:\n",
        "                        test_response = requests.get(test_url)\n",
        "                        # Look for common database error messages in the response content\n",
        "                        if any(error in test_response.text for error in ['sql syntax', 'mysql_fetch_array()', 'ORA-', 'Microsoft JET Database Engine']):\n",
        "                            print(f\"Potential SQL Injection vulnerability found in field '{tag.get('name')}' with payload: {payload}\")\n",
        "                            print(f\"Test URL: {test_url}\")\n",
        "\n",
        "                    except requests.exceptions.RequestException as e:\n",
        "                        print(f\"Error testing payload {payload} on {test_url}: {e}\")\n",
        "\n",
        "        # Basic XSS Check\n",
        "        print(\"\\n--- Performing XSS Checks ---\")\n",
        "        xss_payloads = [\"<script>alert('XSS')</script>\", \"<img src=x onerror=alert('XSS')>\"]\n",
        "        for tag in input_tags:\n",
        "             if tag.get('name'):\n",
        "                print(f\"Found input field for XSS check: {tag.get('name')}\")\n",
        "                for payload in xss_payloads:\n",
        "                    test_url = url\n",
        "                    if '?' in test_url:\n",
        "                        test_url += '&' + tag.get('name') + '=' + urllib.parse.quote(payload)\n",
        "                    else:\n",
        "                        test_url += '?' + tag.get('name') + '=' + urllib.parse.quote(payload)\n",
        "\n",
        "                    try:\n",
        "                        test_response = requests.get(test_url)\n",
        "                        # Check if the payload is reflected in the response\n",
        "                        if payload in test_response.text:\n",
        "                             print(f\"Potential XSS vulnerability found in field '{tag.get('name')}' with payload: {payload}\")\n",
        "                             print(f\"Test URL: {test_url}\")\n",
        "\n",
        "                    except requests.exceptions.RequestException as e:\n",
        "                         print(f\"Error testing payload {payload} on {test_url}: {e}\")\n",
        "\n",
        "\n",
        "\n",
        "    except requests.exceptions.RequestException as e:\n",
        "        print(f\"Error accessing {url}: {e}\")\n",
        "\n",
        "# Example usage (replace with a target URL you have permission to scan)\n",
        "# simple_scanner(\"http://example.com\")"
      ],
      "execution_count": 5,
      "outputs": []
    }
  ]
}