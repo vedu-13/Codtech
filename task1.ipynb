{
  "nbformat": 4,
  "nbformat_minor": 0,
  "metadata": {
    "colab": {
      "provenance": [],
      "authorship_tag": "ABX9TyN/GLtVTZGUnzSjTyOTIk9W",
      "include_colab_link": true
    },
    "kernelspec": {
      "name": "python3",
      "display_name": "Python 3"
    },
    "language_info": {
      "name": "python"
    }
  },
  "cells": [
    {
      "cell_type": "markdown",
      "metadata": {
        "id": "view-in-github",
        "colab_type": "text"
      },
      "source": [
        "<a href=\"https://colab.research.google.com/github/vedu-13/Codtech/blob/main/task1.ipynb\" target=\"_parent\"><img src=\"https://colab.research.google.com/assets/colab-badge.svg\" alt=\"Open In Colab\"/></a>"
      ]
    },
    {
      "cell_type": "code",
      "execution_count": null,
      "metadata": {
        "id": "JnIGBMU-P8FM"
      },
      "outputs": [],
      "source": []
    },
    {
      "cell_type": "markdown",
      "metadata": {
        "id": "00d763a5"
      },
      "source": [
        "Let's create a simple tool to monitor file changes using hash values. We'll define functions to calculate the hash of a file and to compare the hash of a file with a stored hash."
      ]
    },
    {
      "cell_type": "code",
      "metadata": {
        "id": "c81beeff"
      },
      "source": [
        "import hashlib\n",
        "import os\n",
        "\n",
        "def calculate_file_hash(filepath):\n",
        "    \"\"\"Calculates the SHA256 hash of a file.\"\"\"\n",
        "    sha256_hash = hashlib.sha256()\n",
        "    with open(filepath, \"rb\") as f:\n",
        "        # Read and update hash string in chunks\n",
        "        for byte_block in iter(lambda: f.read(4096), b\"\"):\n",
        "            sha256_hash.update(byte_block)\n",
        "    return sha256_hash.hexdigest()\n",
        "\n",
        "def monitor_file_changes(filepath, stored_hash=None):\n",
        "    \"\"\"\n",
        "    Monitors file changes by comparing the current hash with a stored hash.\n",
        "\n",
        "    Args:\n",
        "        filepath (str): The path to the file to monitor.\n",
        "        stored_hash (str, optional): The previously stored hash of the file.\n",
        "                                     If None, the current hash is calculated and returned.\n",
        "\n",
        "    Returns:\n",
        "        tuple: A tuple containing:\n",
        "            - str: The current hash of the file.\n",
        "            - bool or None: True if the file has changed, False if it hasn't,\n",
        "                            and None if no stored_hash was provided.\n",
        "    \"\"\"\n",
        "    if not os.path.exists(filepath):\n",
        "        return None, None # File doesn't exist\n",
        "\n",
        "    current_hash = calculate_file_hash(filepath)\n",
        "\n",
        "    if stored_hash is None:\n",
        "        print(f\"Initial hash for {filepath}: {current_hash}\")\n",
        "        return current_hash, None\n",
        "    else:\n",
        "        if current_hash == stored_hash:\n",
        "            print(f\"File {filepath} has not changed.\")\n",
        "            return current_hash, False\n",
        "        else:\n",
        "            print(f\"File {filepath} has changed!\")\n",
        "            print(f\"Previous hash: {stored_hash}\")\n",
        "            print(f\"Current hash: {current_hash}\")\n",
        "            return current_hash, True"
      ],
      "execution_count": 6,
      "outputs": []
    },
    {
      "cell_type": "markdown",
      "metadata": {
        "id": "00a00024"
      },
      "source": [
        "Now, let's demonstrate how to use these functions. First, we'll create a dummy file."
      ]
    },
    {
      "cell_type": "code",
      "metadata": {
        "colab": {
          "base_uri": "https://localhost:8080/"
        },
        "id": "e202edff",
        "outputId": "1a1251d0-5726-49d6-8a44-1bc9e3516b50"
      },
      "source": [
        "# Create a dummy file for demonstration\n",
        "file_to_monitor = \"my_test_file.txt\"\n",
        "with open(file_to_monitor, \"w\") as f:\n",
        "    f.write(\"This is the initial content.\\n\")\n",
        "\n",
        "print(f\"Created dummy file: {file_to_monitor}\")"
      ],
      "execution_count": 7,
      "outputs": [
        {
          "output_type": "stream",
          "name": "stdout",
          "text": [
            "Created dummy file: my_test_file.txt\n"
          ]
        }
      ]
    },
    {
      "cell_type": "markdown",
      "metadata": {
        "id": "c2d22d12"
      },
      "source": [
        "Next, we'll monitor the file for the first time to get its initial hash."
      ]
    },
    {
      "cell_type": "code",
      "metadata": {
        "colab": {
          "base_uri": "https://localhost:8080/"
        },
        "id": "f56b9859",
        "outputId": "131f9559-76c5-4075-8eed-05df544fb1a5"
      },
      "source": [
        "# Monitor the file for the first time\n",
        "initial_hash, _ = monitor_file_changes(file_to_monitor)"
      ],
      "execution_count": 8,
      "outputs": [
        {
          "output_type": "stream",
          "name": "stdout",
          "text": [
            "Initial hash for my_test_file.txt: 3f92a3ce379d00a5c54451aa3c5da301e893283ae6a872efbf1636aedbf2a475\n"
          ]
        }
      ]
    },
    {
      "cell_type": "markdown",
      "metadata": {
        "id": "7c39ccc3"
      },
      "source": [
        "Now, let's modify the file and then monitor it again to see the change."
      ]
    },
    {
      "cell_type": "code",
      "metadata": {
        "colab": {
          "base_uri": "https://localhost:8080/"
        },
        "id": "6a145149",
        "outputId": "e36a4431-6d48-4be0-b48f-583a73337778"
      },
      "source": [
        "# Modify the file\n",
        "with open(file_to_monitor, \"a\") as f:\n",
        "    f.write(\"Adding some new content.\\n\")\n",
        "\n",
        "print(f\"\\nModified dummy file: {file_to_monitor}\")\n",
        "\n",
        "# Monitor the file again with the initial hash\n",
        "updated_hash, has_changed = monitor_file_changes(file_to_monitor, initial_hash)"
      ],
      "execution_count": 9,
      "outputs": [
        {
          "output_type": "stream",
          "name": "stdout",
          "text": [
            "\n",
            "Modified dummy file: my_test_file.txt\n",
            "File my_test_file.txt has changed!\n",
            "Previous hash: 3f92a3ce379d00a5c54451aa3c5da301e893283ae6a872efbf1636aedbf2a475\n",
            "Current hash: 706d90bf11e7646530d1b79cc54f80eb7618221f9b7fa5a520004473c16210a0\n"
          ]
        }
      ]
    },
    {
      "cell_type": "markdown",
      "metadata": {
        "id": "f9a9e83e"
      },
      "source": [
        "Finally, we'll clean up the dummy file."
      ]
    },
    {
      "cell_type": "code",
      "metadata": {
        "colab": {
          "base_uri": "https://localhost:8080/"
        },
        "id": "3d4b9e82",
        "outputId": "2b86af10-84bc-4f78-b3b2-1827edf02518"
      },
      "source": [
        "# Clean up the dummy file\n",
        "os.remove(file_to_monitor)\n",
        "print(f\"\\nRemoved dummy file: {file_to_monitor}\")"
      ],
      "execution_count": 10,
      "outputs": [
        {
          "output_type": "stream",
          "name": "stdout",
          "text": [
            "\n",
            "Removed dummy file: my_test_file.txt\n"
          ]
        }
      ]
    }
  ]
}